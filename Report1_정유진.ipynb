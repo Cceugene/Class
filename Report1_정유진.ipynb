{
  "cells": [
    {
      "cell_type": "markdown",
      "id": "7a9a7aca",
      "metadata": {
        "id": "7a9a7aca"
      },
      "source": [
        "# 과제 1. Jupiter Noebook의 파이썬 코드로 다음을 작성하여 제출하세요.  \n",
        "  \n",
        "(1) 과제에 대한 설명은 마크다운셀로 작성  \n",
        "(2) 간단한 자기소개를 코드셀에 차이썬 프로그램으로 작성  \n",
        "  \n",
        "<출력예시>  \n",
        "성명: ...  \n",
        "좌우명: ...  \n",
        "장래희망: ...  \n",
        "  \n",
        "- 학습활동의 결과는 e-루리에 제출바랍니다.\n",
        "- 제목: Report1. 파이썬 문제\n",
        "- 제출내용: Report1_성명.ipynb 노트북파일을 제출\n",
        "- 제출기한: 2022년 3월 14일 월요일 오후 11:55"
      ]
    },
    {
      "cell_type": "code",
      "execution_count": 11,
      "id": "42037d58",
      "metadata": {
        "colab": {
          "base_uri": "https://localhost:8080/"
        },
        "id": "42037d58",
        "outputId": "0feda9bc-d623-4f33-9648-310effb30aef"
      },
      "outputs": [
        {
          "output_type": "stream",
          "name": "stdout",
          "text": [
            "성명: 정유진\n",
            "학번: 201910854\n",
            "전공: 심리학전공\n",
            "좌우명: '실패는 성장의 기회'\n",
            "장래희망: 데이터분석가\n"
          ]
        }
      ],
      "source": [
        "print('''성명: 정유진\n",
        "학번: 201910854\n",
        "전공: 심리학전공\n",
        "좌우명: \\'실패는 성장의 기회\\'\n",
        "장래희망: 데이터분석가''')"
      ]
    },
    {
      "cell_type": "code",
      "execution_count": null,
      "id": "650deddb",
      "metadata": {
        "id": "650deddb"
      },
      "outputs": [],
      "source": [
        ""
      ]
    }
  ],
  "metadata": {
    "kernelspec": {
      "display_name": "Python 3 (ipykernel)",
      "language": "python",
      "name": "python3"
    },
    "language_info": {
      "codemirror_mode": {
        "name": "ipython",
        "version": 3
      },
      "file_extension": ".py",
      "mimetype": "text/x-python",
      "name": "python",
      "nbconvert_exporter": "python",
      "pygments_lexer": "ipython3",
      "version": "3.9.7"
    },
    "colab": {
      "name": "Report1_정유진.ipynb",
      "provenance": [],
      "collapsed_sections": []
    }
  },
  "nbformat": 4,
  "nbformat_minor": 5
}