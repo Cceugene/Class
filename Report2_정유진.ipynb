{
  "nbformat": 4,
  "nbformat_minor": 0,
  "metadata": {
    "colab": {
      "name": "Report2_정유진.ipynb",
      "provenance": [],
      "collapsed_sections": []
    },
    "kernelspec": {
      "name": "python3",
      "display_name": "Python 3"
    },
    "language_info": {
      "name": "python"
    }
  },
  "cells": [
    {
      "cell_type": "markdown",
      "source": [
        "#과제2. 변수를 이용한 나이계산 프로그램 문제  \n",
        " 본인의 성명, 생년을 변수에 저장하고 생년변수로 나이를 계산하여 출력하는 파이썬 프로그램 작성  \n",
        "    \n",
        "<나이계산식>  \n",
        "나이 = 현재년도 ? 생년 + 1   \n",
        "<출력예시>  \n",
        "‘홍길동님은 2000년 태생이며 2021년 현재 나이는 22세 입니다.’  \n",
        "   \n",
        "- 제출내용 : Report2_성명. ipynb 노트북파일을 제출\n",
        "- 제출기한 : 2022년 3월 21일 월요일 오후 11:55"
      ],
      "metadata": {
        "id": "W5Y5s0ARVzYG"
      }
    },
    {
      "cell_type": "code",
      "source": [
        "name='정유진'\n",
        "birth=1999\n",
        "\n",
        "year=2022\n",
        "print('{}님은 {}년 태생이며 {}년 현재 나이는 {}세 입니다.'.format(name, birth, year, year-birth+1))"
      ],
      "metadata": {
        "colab": {
          "base_uri": "https://localhost:8080/"
        },
        "id": "PVmy23yXWrNx",
        "outputId": "cfd06158-36b7-4492-e32c-041bb3c7c136"
      },
      "execution_count": null,
      "outputs": [
        {
          "output_type": "stream",
          "name": "stdout",
          "text": [
            "정유진님은 1999년 태생이며 2022년 현재 나이는 24세 입니다.\n"
          ]
        }
      ]
    },
    {
      "cell_type": "code",
      "source": [
        ""
      ],
      "metadata": {
        "id": "l8bm13w2YBIF"
      },
      "execution_count": null,
      "outputs": []
    }
  ]
}