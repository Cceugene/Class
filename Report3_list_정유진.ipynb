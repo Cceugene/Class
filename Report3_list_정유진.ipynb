{
 "cells": [
  {
   "cell_type": "markdown",
   "id": "f7a4aa68",
   "metadata": {},
   "source": [
    "# 과제3. 2차원 리스트 생성 연습  \n",
    "## 3명의 키와 몸무게를 2차원 리스트에 저장하여 출력하는 프로그램 작성  \n",
    "  \n",
    "  \n",
    "학과: 심리학과 학번: 201910854 이름: 정유진"
   ]
  },
  {
   "cell_type": "code",
   "execution_count": 9,
   "id": "03968078",
   "metadata": {},
   "outputs": [
    {
     "name": "stdout",
     "output_type": "stream",
     "text": [
      "전체출력: ([180, 80], [169, 77], [156, 55])\n",
      "두 번째 출력: [169, 77]\n",
      "개수: 3\n",
      "평균 키: 168.33 cm\n",
      "평균 몸무게: 70.67 kg\n"
     ]
    }
   ],
   "source": [
    "a=[180, 80]\n",
    "b=[169, 77]\n",
    "c=[156, 55]\n",
    "\n",
    "t = a, b, c\n",
    "\n",
    "print('전체출력:', t)\n",
    "print('두 번째 출력:', t[1])\n",
    "print('개수:', len(t))\n",
    "\n",
    "h = t[0][0] + t[1][0] + t[2][0]\n",
    "mean_h = h/len(t)\n",
    "w =  t[0][1] + t[1][1] + t[2][1]\n",
    "mean_w = w/len(t)\n",
    "\n",
    "print(f'평균 키: {mean_h:.2f} cm')\n",
    "print(f'평균 몸무게: {mean_w:.2f} kg')"
   ]
  },
  {
   "cell_type": "code",
   "execution_count": null,
   "id": "0aa3e6c5",
   "metadata": {},
   "outputs": [],
   "source": []
  }
 ],
 "metadata": {
  "kernelspec": {
   "display_name": "Python 3 (ipykernel)",
   "language": "python",
   "name": "python3"
  },
  "language_info": {
   "codemirror_mode": {
    "name": "ipython",
    "version": 3
   },
   "file_extension": ".py",
   "mimetype": "text/x-python",
   "name": "python",
   "nbconvert_exporter": "python",
   "pygments_lexer": "ipython3",
   "version": "3.9.7"
  }
 },
 "nbformat": 4,
 "nbformat_minor": 5
}
