{
 "cells": [
  {
   "cell_type": "markdown",
   "id": "fe9566b9",
   "metadata": {},
   "source": [
    "# 과제 4. 조건문 연습  \n",
    "\n",
    "  학과: 심리학과  학번: 201910854  성명: 정유진"
   ]
  },
  {
   "cell_type": "markdown",
   "id": "74d5f899",
   "metadata": {},
   "source": [
    "1) 정수를 입력하여 짝수와 홀수를 판단하는 프로그램 (if-else 사용)  "
   ]
  },
  {
   "cell_type": "code",
   "execution_count": 3,
   "id": "24952ef5",
   "metadata": {},
   "outputs": [
    {
     "name": "stdout",
     "output_type": "stream",
     "text": [
      "정수 입력 > 23\n",
      "홀수입니다.\n"
     ]
    }
   ],
   "source": [
    "n = int(input('정수 입력 > '))\n",
    "\n",
    "if n%2 == 0:\n",
    "    print('짝수입니다.')\n",
    "else:\n",
    "    print('홀수입니다.')"
   ]
  },
  {
   "cell_type": "markdown",
   "id": "f70d8056",
   "metadata": {},
   "source": [
    "2) 세 개의 정수를 입력하여 가장 큰 수를 출력하는 프로그램(if-elif-else 사용)  "
   ]
  },
  {
   "cell_type": "code",
   "execution_count": 6,
   "id": "eeca8f6d",
   "metadata": {},
   "outputs": [
    {
     "name": "stdout",
     "output_type": "stream",
     "text": [
      "12\n",
      "12\n",
      "2\n",
      "가장 큰 수는 12\n"
     ]
    }
   ],
   "source": [
    "a = int(input())\n",
    "b = int(input())\n",
    "c = int(input())\n",
    "M = 0\n",
    "\n",
    "if a > b:\n",
    "    if a > c:\n",
    "        M = a\n",
    "    else:\n",
    "        M = c\n",
    "elif b > c:\n",
    "    M = b\n",
    "else:\n",
    "    M = c\n",
    "\n",
    "print('가장 큰 수는', M)"
   ]
  },
  {
   "cell_type": "markdown",
   "id": "f51f2078",
   "metadata": {},
   "source": [
    "3) 단어장에 입력된 단어가 포함되어 있으면 삭제하는 프로그램  "
   ]
  },
  {
   "cell_type": "code",
   "execution_count": 7,
   "id": "0e722473",
   "metadata": {},
   "outputs": [
    {
     "name": "stdout",
     "output_type": "stream",
     "text": [
      "단어 입력 > 사과\n",
      "['배', '수박']\n"
     ]
    }
   ],
   "source": [
    "W = input('단어 입력 > ')\n",
    "words = ['사과', '배', '수박']\n",
    "\n",
    "if W in words:\n",
    "    words.remove(W)\n",
    "print(words)"
   ]
  },
  {
   "cell_type": "code",
   "execution_count": null,
   "id": "7be2a717",
   "metadata": {},
   "outputs": [],
   "source": []
  }
 ],
 "metadata": {
  "kernelspec": {
   "display_name": "Python 3 (ipykernel)",
   "language": "python",
   "name": "python3"
  },
  "language_info": {
   "codemirror_mode": {
    "name": "ipython",
    "version": 3
   },
   "file_extension": ".py",
   "mimetype": "text/x-python",
   "name": "python",
   "nbconvert_exporter": "python",
   "pygments_lexer": "ipython3",
   "version": "3.9.7"
  }
 },
 "nbformat": 4,
 "nbformat_minor": 5
}
