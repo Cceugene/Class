{
 "cells": [
  {
   "cell_type": "markdown",
   "id": "e9e6700a",
   "metadata": {},
   "source": [
    "## Report5. 반복문 연습  \n",
    "  \n",
    "  "
   ]
  },
  {
   "cell_type": "markdown",
   "id": "a0d80fe1",
   "metadata": {},
   "source": [
    "1. 성명, 신장, 체중을 입력하여 출력하고, BMI를 계산하여 비만진단 결과를 출력하는 프로그램 (while문)  \n",
    "  \n",
    "201910854 심리학과 정유진"
   ]
  },
  {
   "cell_type": "code",
   "execution_count": 13,
   "id": "2d788aaf",
   "metadata": {},
   "outputs": [
    {
     "name": "stdout",
     "output_type": "stream",
     "text": [
      "성명입력 ? hong\n",
      "몸무게 입력(kg) ? 0\n",
      "몸무게 입력범위(10 ~ 1000)를 확인하세요\n",
      "몸무게 입력(kg) ? 80\n",
      "키 입력(m) ? 0\n",
      "키 입력범위(1 ~ 5)를 확인하세요\n",
      "키 입력(m) ? 1.78\n",
      "hong 1.78 m  80.0 kg  25.25 ==> 비만\n",
      "성명입력 ? min\n",
      "몸무게 입력(kg) ? 60\n",
      "키 입력(m) ? 1.75\n",
      "min 1.75 m  60.0 kg  19.59 ==> 정상체중\n",
      "성명입력 ? q\n",
      "반복종료\n"
     ]
    }
   ],
   "source": [
    "while True:\n",
    "    n = input('성명입력 ? ')\n",
    "    if n == 'q' or n == 'Q':\n",
    "        print('반복종료')\n",
    "        break    \n",
    "    while True:\n",
    "        w = float(input('몸무게 입력(kg) ? '))\n",
    "        if (10 > w) or (1000 < w):\n",
    "            print('몸무게 입력범위(10 ~ 1000)를 확인하세요')\n",
    "            continue\n",
    "        else:\n",
    "            break\n",
    "    while True:\n",
    "        h = float(input('키 입력(m) ? '))\n",
    "        if (1 > h) or (5 < h):\n",
    "            print('키 입력범위(1 ~ 5)를 확인하세요')\n",
    "            continue\n",
    "        else:\n",
    "            break\n",
    "    BMI = w/(h**2)\n",
    "    if BMI < 18.5:\n",
    "        p = '저체중'\n",
    "    elif BMI < 23:\n",
    "            p = '정상체중'\n",
    "    elif BMI < 25:\n",
    "        p = '과체중'\n",
    "    else:\n",
    "        p = '비만'\n",
    "    print(n, h, 'm ', w, 'kg ', f'{BMI:.2f}', '==>', p)"
   ]
  },
  {
   "cell_type": "code",
   "execution_count": null,
   "id": "64a0f309",
   "metadata": {},
   "outputs": [],
   "source": []
  }
 ],
 "metadata": {
  "kernelspec": {
   "display_name": "Python 3 (ipykernel)",
   "language": "python",
   "name": "python3"
  },
  "language_info": {
   "codemirror_mode": {
    "name": "ipython",
    "version": 3
   },
   "file_extension": ".py",
   "mimetype": "text/x-python",
   "name": "python",
   "nbconvert_exporter": "python",
   "pygments_lexer": "ipython3",
   "version": "3.9.7"
  }
 },
 "nbformat": 4,
 "nbformat_minor": 5
}
