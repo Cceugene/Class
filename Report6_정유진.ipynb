{
 "cells": [
  {
   "cell_type": "markdown",
   "metadata": {
    "id": "LESy6ReXogAz"
   },
   "source": [
    "# Report6. 함수 연습  \n",
    "학과: 심리학과  \n",
    "학번: 201910854  \n",
    "이름: 정유진"
   ]
  },
  {
   "cell_type": "markdown",
   "metadata": {
    "id": "oQjxFPocfDyl"
   },
   "source": [
    "#### (1) 두 수 중 큰 수를 반환하는 max()함수를 정의하고 ,  두수를 입력하여 함수를 호출하고 처리 결과를 출력하는 프로그램 작성  \n",
    "     (무한반복으로 처리, 두수가 같으면 종료)"
   ]
  },
  {
   "cell_type": "code",
   "execution_count": 11,
   "metadata": {
    "id": "JsiHzRltfYNn"
   },
   "outputs": [],
   "source": [
    "def max(a, b):\n",
    "    out = 0\n",
    "    if a > b:\n",
    "        out = a\n",
    "    elif a < b:\n",
    "        out = b\n",
    "    return out"
   ]
  },
  {
   "cell_type": "code",
   "execution_count": 16,
   "metadata": {},
   "outputs": [
    {
     "name": "stdout",
     "output_type": "stream",
     "text": [
      "a = 12\n",
      "b = 13\n",
      "13 (a < b)\n",
      "a = 14\n",
      "b = 13\n",
      "14 (a > b)\n",
      "a = 11\n",
      "b = 11\n",
      "두 수가 같습니다.\n"
     ]
    }
   ],
   "source": [
    "while True:\n",
    "    a = int(input('a = '))\n",
    "    b = int(input('b = '))\n",
    "    higher = max(a, b)\n",
    "    if higher == 0:\n",
    "        print('두 수가 같습니다.')\n",
    "        break\n",
    "    else:\n",
    "        if higher == a:\n",
    "            print(f'{a} (a > b)')\n",
    "        else:\n",
    "            print(f'{b} (a < b)')"
   ]
  },
  {
   "cell_type": "markdown",
   "metadata": {
    "id": "a9k9ENI6n1AQ"
   },
   "source": [
    "#### (2) 가변인수, 반환 연습  \n",
    "  가변인수로 전달된 모든 값의 합과 평균을 구하여 반환하는 프로그램 작성  \n",
    "  함수호출 예시 :  \n",
    "        r = f(1,2,3)  \n",
    "        r = f(100,80,90,60)"
   ]
  },
  {
   "cell_type": "code",
   "execution_count": 5,
   "metadata": {
    "id": "BN5Z_Zscnzzy"
   },
   "outputs": [],
   "source": [
    "def f(*x):\n",
    "    s = 0\n",
    "    for i in range(len(x)):\n",
    "        s += x[i]\n",
    "    m = s/len(x)\n",
    "    return s, m"
   ]
  },
  {
   "cell_type": "code",
   "execution_count": 7,
   "metadata": {
    "id": "_SI-7NW4kWPC"
   },
   "outputs": [
    {
     "name": "stdout",
     "output_type": "stream",
     "text": [
      "(6, 2.0)\n"
     ]
    }
   ],
   "source": [
    "r = f(1, 2, 3)\n",
    "print(r)"
   ]
  },
  {
   "cell_type": "code",
   "execution_count": 8,
   "metadata": {},
   "outputs": [
    {
     "name": "stdout",
     "output_type": "stream",
     "text": [
      "(330, 82.5)\n"
     ]
    }
   ],
   "source": [
    "r = f(100, 80, 90, 60)\n",
    "print(r)"
   ]
  },
  {
   "cell_type": "markdown",
   "metadata": {
    "id": "_8QxZqGeoBZq"
   },
   "source": [
    "#### (3) 람다를 사용하여 다음 식의 결과를 출력하는 프로그램 작성  \n",
    "      f(x,y) = x^2+ 3x + y^2 + 2y\n"
   ]
  },
  {
   "cell_type": "code",
   "execution_count": 10,
   "metadata": {
    "id": "Y819qJXUoQN3"
   },
   "outputs": [
    {
     "name": "stdout",
     "output_type": "stream",
     "text": [
      "45\n"
     ]
    }
   ],
   "source": [
    "f = lambda x, y : x**2 + (3*x) + y**2 + (2*y)\n",
    "print(f(2, 5))"
   ]
  }
 ],
 "metadata": {
  "colab": {
   "name": "Report6_정유진.ipynb의 사본",
   "provenance": [
    {
     "file_id": "https://github.com/Cceugene/class/blob/DataProgramming/Report6_%EC%A0%95%EC%9C%A0%EC%A7%84.ipynb",
     "timestamp": 1649254751190
    }
   ]
  },
  "kernelspec": {
   "display_name": "Python 3 (ipykernel)",
   "language": "python",
   "name": "python3"
  },
  "language_info": {
   "codemirror_mode": {
    "name": "ipython",
    "version": 3
   },
   "file_extension": ".py",
   "mimetype": "text/x-python",
   "name": "python",
   "nbconvert_exporter": "python",
   "pygments_lexer": "ipython3",
   "version": "3.9.7"
  }
 },
 "nbformat": 4,
 "nbformat_minor": 1
}
