{
 "cells": [
  {
   "cell_type": "markdown",
   "id": "42880012",
   "metadata": {},
   "source": [
    "#### Report 7. 딕셔너리 구조를 이용하여 영한 단어장을 만들고 반복 구조로 단어추가, 단어검색, 단어장출력 처리"
   ]
  },
  {
   "cell_type": "markdown",
   "id": "4269410e",
   "metadata": {},
   "source": [
    "201910854 정유진"
   ]
  },
  {
   "cell_type": "code",
   "execution_count": 13,
   "id": "4633c85d",
   "metadata": {
    "scrolled": false
   },
   "outputs": [
    {
     "name": "stdout",
     "output_type": "stream",
     "text": [
      "처리할 번호를 입력하세요. (0.종료 1.단어추가 2.단어검색 3.단어장출력) ? 1\n",
      "영어단어 입력: sun\n",
      "한글단어 입력: 태양\n",
      "처리할 번호를 입력하세요. (0.종료 1.단어추가 2.단어검색 3.단어장출력) ? 1\n",
      "영어단어 입력: sky\n",
      "한글단어 입력: 하늘\n",
      "처리할 번호를 입력하세요. (0.종료 1.단어추가 2.단어검색 3.단어장출력) ? 2\n",
      "검색할 영어단어 입력: moon\n",
      "검색할 영어단어는 등록되어 있지 않습니다.\n",
      "처리할 번호를 입력하세요. (0.종료 1.단어추가 2.단어검색 3.단어장출력) ? sun\n",
      "입력범위 오류\n",
      "처리할 번호를 입력하세요. (0.종료 1.단어추가 2.단어검색 3.단어장출력) ? 2\n",
      "검색할 영어단어 입력: sun\n",
      "검색 된 한글단어: 태양\n",
      "처리할 번호를 입력하세요. (0.종료 1.단어추가 2.단어검색 3.단어장출력) ? 3\n",
      "**영한 단어장**\n",
      "영어 한글\n",
      "---------\n",
      "sun  태양\n",
      "sky  하늘\n",
      "처리할 번호를 입력하세요. (0.종료 1.단어추가 2.단어검색 3.단어장출력) ? 0\n",
      "종료합니다.\n"
     ]
    }
   ],
   "source": [
    "dic = {}\n",
    "\n",
    "while True:\n",
    "    inp = input('처리할 번호를 입력하세요. (0.종료 1.단어추가 2.단어검색 3.단어장출력) ? ')\n",
    "    if inp == '0':\n",
    "        print('종료합니다.')\n",
    "        break\n",
    "    elif inp == '1':\n",
    "        en = input('영어단어 입력: ')\n",
    "        ko = input('한글단어 입력: ')\n",
    "        dic[en] = ko\n",
    "    elif inp == '2':\n",
    "        search = input('검색할 영어단어 입력: ')\n",
    "        if search in dic:\n",
    "            print('검색 된 한글단어:', dic[search])\n",
    "        else:\n",
    "            print('검색할 영어단어는 등록되어 있지 않습니다.')\n",
    "            continue\n",
    "    elif inp == '3':\n",
    "        print('**영한 단어장**', '영어 한글', '---------', sep='\\n')\n",
    "        for k, v in dic.items():\n",
    "            print(k, v, sep='  ')\n",
    "    else:\n",
    "        print('입력범위 오류')"
   ]
  }
 ],
 "metadata": {
  "kernelspec": {
   "display_name": "Python 3 (ipykernel)",
   "language": "python",
   "name": "python3"
  },
  "language_info": {
   "codemirror_mode": {
    "name": "ipython",
    "version": 3
   },
   "file_extension": ".py",
   "mimetype": "text/x-python",
   "name": "python",
   "nbconvert_exporter": "python",
   "pygments_lexer": "ipython3",
   "version": "3.9.7"
  }
 },
 "nbformat": 4,
 "nbformat_minor": 5
}
