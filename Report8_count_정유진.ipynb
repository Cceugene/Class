{
 "cells": [
  {
   "cell_type": "markdown",
   "id": "f8fd5294",
   "metadata": {},
   "source": [
    "# Report 8. 문장의 단어 카운팅 프로그램  \n",
    "(1)두 개의 문장을 문자열로 입력  \n",
    "(2)두 문장의 단어들을 카운팅하여 하나의 Counter 객체에 결합  \n",
    "(3)단어 중 빈도수가 가장 큰 값 2개만 추출하여 확인"
   ]
  },
  {
   "cell_type": "markdown",
   "id": "6500ffc2",
   "metadata": {},
   "source": [
    "201910854 정유진"
   ]
  },
  {
   "cell_type": "code",
   "execution_count": 5,
   "id": "71807d71",
   "metadata": {},
   "outputs": [
    {
     "name": "stdout",
     "output_type": "stream",
     "text": [
      "문장 1) i am a bug\n",
      "문장 2) i am a black bug\n"
     ]
    },
    {
     "data": {
      "text/plain": [
       "Counter({'i': 2, 'am': 2, 'a': 2, 'bug': 2, 'black': 1})"
      ]
     },
     "execution_count": 5,
     "metadata": {},
     "output_type": "execute_result"
    }
   ],
   "source": [
    "from collections import Counter\n",
    "\n",
    "a = input('문장 1) ').split()\n",
    "b = input('문장 2) ').split()\n",
    "\n",
    "A = Counter(a)\n",
    "B = Counter(b)\n",
    "\n",
    "C = A + B\n",
    "\n",
    "C.most_common(2)\n",
    "C"
   ]
  },
  {
   "cell_type": "code",
   "execution_count": null,
   "id": "19655785",
   "metadata": {},
   "outputs": [],
   "source": []
  }
 ],
 "metadata": {
  "kernelspec": {
   "display_name": "Python 3 (ipykernel)",
   "language": "python",
   "name": "python3"
  },
  "language_info": {
   "codemirror_mode": {
    "name": "ipython",
    "version": 3
   },
   "file_extension": ".py",
   "mimetype": "text/x-python",
   "name": "python",
   "nbconvert_exporter": "python",
   "pygments_lexer": "ipython3",
   "version": "3.9.7"
  }
 },
 "nbformat": 4,
 "nbformat_minor": 5
}
