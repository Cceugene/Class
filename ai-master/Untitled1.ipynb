{
 "cells": [
  {
   "cell_type": "code",
   "execution_count": null,
   "metadata": {},
   "outputs": [],
   "source": [
    "[-0.46451692 -0.3927573   0.10437633 -0.22250676  1.54491754  1.53325161\n",
    " -0.54585776 -1.74649701 -1.90453788 -0.81325938] [ 2.41167969  2.52579413  4.85791846  0.82074431  6.71069586  6.19213614\n",
    "  1.69971944 -1.2413361  -2.32340947  1.43749768]"
   ]
  }
 ],
 "metadata": {
  "kernelspec": {
   "display_name": "Python 3",
   "language": "python",
   "name": "python3"
  },
  "language_info": {
   "codemirror_mode": {
    "name": "ipython",
    "version": 3
   },
   "file_extension": ".py",
   "mimetype": "text/x-python",
   "name": "python",
   "nbconvert_exporter": "python",
   "pygments_lexer": "ipython3",
   "version": "3.7.4"
  }
 },
 "nbformat": 4,
 "nbformat_minor": 2
}
