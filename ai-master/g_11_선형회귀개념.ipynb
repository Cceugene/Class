{
 "cells": [
  {
   "cell_type": "markdown",
   "metadata": {
    "colab_type": "text",
    "id": "Dji53O40dPED"
   },
   "source": [
    "선형회귀\n",
    "==\n",
    "- 선형회귀 함수사용\n",
    "- 경사하강법 동작 이해"
   ]
  },
  {
   "cell_type": "markdown",
   "metadata": {
    "colab_type": "text",
    "id": "eT71GBzTd_kG"
   },
   "source": [
    "## 선형회귀 함수 사용법"
   ]
  },
  {
   "cell_type": "code",
   "execution_count": 23,
   "metadata": {
    "colab": {
     "base_uri": "https://localhost:8080/",
     "height": 282
    },
    "colab_type": "code",
    "executionInfo": {
     "elapsed": 1213,
     "status": "ok",
     "timestamp": 1580270783933,
     "user": {
      "displayName": "김화종",
      "photoUrl": "https://lh3.googleusercontent.com/a-/AAuE7mCOtXjyLykQ_8l9Pq2rL3r5y110ynjRS1eb1EzpcQ=s64",
      "userId": "17353049580175403985"
     },
     "user_tz": -540
    },
    "id": "OhhpOOGhdPEG",
    "outputId": "021cf4b9-7f6b-48d0-b03f-62959ead0e0c",
    "scrolled": false
   },
   "outputs": [
    {
     "data": {
      "text/plain": [
       "<matplotlib.collections.PathCollection at 0x1e0a55d6c08>"
      ]
     },
     "execution_count": 23,
     "metadata": {},
     "output_type": "execute_result"
    },
    {
     "data": {
      "image/png": "[encoded data removed]",
      "text/plain": [
       "<Figure size 432x288 with 1 Axes>"
      ]
     },
     "metadata": {
      "image/png": {
       "height": 248,
       "width": 370
      },
      "needs_background": "light"
     },
     "output_type": "display_data"
    }
   ],
   "source": [
    "import numpy as np\n",
    "import pandas as pd\n",
    "import matplotlib.pyplot as plt\n",
    "%matplotlib inline\n",
    "%config InlineBackend.figure_format = 'retina'\n",
    "\n",
    "n_samples = 10\n",
    "x = np.random.randn(n_samples) # x 생성\n",
    "# 계수 및 절편\n",
    "w = 2\n",
    "b = 3\n",
    "# 노이지 추가\n",
    "y = w*x + b # + 1.0* np.random.randn(n_samples) # 실제 y 값 생성\n",
    "plt.scatter(x,y, s=10)"
   ]
  },
  {
   "cell_type": "code",
   "execution_count": 24,
   "metadata": {
    "scrolled": true
   },
   "outputs": [
    {
     "name": "stdout",
     "output_type": "stream",
     "text": [
      "[ 0.6816661  -0.24972448 -0.2532229  -1.1783177  -1.66589428 -0.85890426\n",
      "  1.61187356 -0.73539279 -1.89750523  0.32427507]\n"
     ]
    }
   ],
   "source": [
    "print(x)"
   ]
  },
  {
   "cell_type": "code",
   "execution_count": 25,
   "metadata": {},
   "outputs": [
    {
     "name": "stdout",
     "output_type": "stream",
     "text": [
      "[ 4.36333219  2.50055105  2.4935542   0.64336461 -0.33178855  1.28219147\n",
      "  6.22374712  1.52921442 -0.79501045  3.64855015]\n"
     ]
    }
   ],
   "source": [
    "print(y)"
   ]
  },
  {
   "cell_type": "code",
   "execution_count": 15,
   "metadata": {
    "colab": {
     "base_uri": "https://localhost:8080/",
     "height": 50
    },
    "colab_type": "code",
    "executionInfo": {
     "elapsed": 923,
     "status": "ok",
     "timestamp": 1580270791097,
     "user": {
      "displayName": "김화종",
      "photoUrl": "https://lh3.googleusercontent.com/a-/AAuE7mCOtXjyLykQ_8l9Pq2rL3r5y110ynjRS1eb1EzpcQ=s64",
      "userId": "17353049580175403985"
     },
     "user_tz": -540
    },
    "id": "-_G1Qr6TdPEM",
    "outputId": "2ff68b82-7d8b-4428-8e9d-b6d6ff5b679e"
   },
   "outputs": [
    {
     "data": {
      "text/plain": [
       "array([[1.        , 0.89385869],\n",
       "       [0.89385869, 1.        ]])"
      ]
     },
     "execution_count": 15,
     "metadata": {},
     "output_type": "execute_result"
    }
   ],
   "source": [
    "np.corrcoef(x,y)"
   ]
  },
  {
   "cell_type": "code",
   "execution_count": 16,
   "metadata": {
    "colab": {
     "base_uri": "https://localhost:8080/",
     "height": 50
    },
    "colab_type": "code",
    "executionInfo": {
     "elapsed": 2080,
     "status": "ok",
     "timestamp": 1580270797922,
     "user": {
      "displayName": "김화종",
      "photoUrl": "https://lh3.googleusercontent.com/a-/AAuE7mCOtXjyLykQ_8l9Pq2rL3r5y110ynjRS1eb1EzpcQ=s64",
      "userId": "17353049580175403985"
     },
     "user_tz": -540
    },
    "id": "jNa4akPSdPEQ",
    "outputId": "173b40d0-866b-4e95-e081-7415264abfc5"
   },
   "outputs": [
    {
     "name": "stdout",
     "output_type": "stream",
     "text": [
      "[1.96534132]\n",
      "2.9976339525146662\n"
     ]
    }
   ],
   "source": [
    "from sklearn.linear_model import LinearRegression\n",
    "leg = LinearRegression() # (1) 모델 생성\n",
    "leg.fit(x.reshape(-1,1), y) # (2) 학습\n",
    "\n",
    "print(leg.coef_) # w\n",
    "print(leg.intercept_) # b"
   ]
  },
  {
   "cell_type": "markdown",
   "metadata": {
    "colab_type": "text",
    "id": "KcCTA465e70_"
   },
   "source": [
    "## 모델을 예측에 사용하기"
   ]
  },
  {
   "cell_type": "code",
   "execution_count": 17,
   "metadata": {
    "colab": {
     "base_uri": "https://localhost:8080/",
     "height": 34
    },
    "colab_type": "code",
    "executionInfo": {
     "elapsed": 699,
     "status": "ok",
     "timestamp": 1580270881499,
     "user": {
      "displayName": "김화종",
      "photoUrl": "https://lh3.googleusercontent.com/a-/AAuE7mCOtXjyLykQ_8l9Pq2rL3r5y110ynjRS1eb1EzpcQ=s64",
      "userId": "17353049580175403985"
     },
     "user_tz": -540
    },
    "id": "WWkkUZaWeuik",
    "outputId": "3b45fb11-4a52-43cd-db80-7b649e75210b"
   },
   "outputs": [
    {
     "data": {
      "text/plain": [
       "array([ 4.96297528, 12.82434057, 22.65104719])"
      ]
     },
     "execution_count": 17,
     "metadata": {},
     "output_type": "execute_result"
    }
   ],
   "source": [
    "leg.predict([[1],[5],[10]]) # (3) 모델 사용(회귀, 분류) inference"
   ]
  },
  {
   "cell_type": "markdown",
   "metadata": {
    "colab_type": "text",
    "id": "rz97pUnieFG1"
   },
   "source": [
    "## 경사하강법 구현"
   ]
  },
  {
   "cell_type": "markdown",
   "metadata": {
    "colab_type": "text",
    "id": "hRjW17p9d7tF"
   },
   "source": [
    "변수가 1개인 경우\n",
    "--"
   ]
  },
  {
   "cell_type": "code",
   "execution_count": 18,
   "metadata": {
    "colab": {
     "base_uri": "https://localhost:8080/",
     "height": 185
    },
    "colab_type": "code",
    "executionInfo": {
     "elapsed": 940,
     "status": "ok",
     "timestamp": 1580271334405,
     "user": {
      "displayName": "김화종",
      "photoUrl": "https://lh3.googleusercontent.com/a-/AAuE7mCOtXjyLykQ_8l9Pq2rL3r5y110ynjRS1eb1EzpcQ=s64",
      "userId": "17353049580175403985"
     },
     "user_tz": -540
    },
    "id": "o5UNgpdNd7tV",
    "outputId": "6ae6d1b7-6862-489e-94b1-671099181b7e",
    "scrolled": false
   },
   "outputs": [
    {
     "name": "stdout",
     "output_type": "stream",
     "text": [
      "0.5751190304502971 0.9508548667264162\n",
      " 0 w1 = 0.575119, b = 0.950855 , error = 2.250515\n",
      " 1 w1 = 1.920026, b = 3.027068 , error = 0.747362\n",
      " 2 w1 = 1.961829, b = 2.998593 , error = 0.745826\n",
      " 3 w1 = 1.965097, b = 2.997708 , error = 0.745738\n",
      " 4 w1 = 1.965324, b = 2.997639 , error = 0.745732\n",
      " 5 w1 = 1.965340, b = 2.997634 , error = 0.745732\n",
      " 6 w1 = 1.965341, b = 2.997634 , error = 0.745732\n",
      " 7 w1 = 1.965341, b = 2.997634 , error = 0.745732\n",
      " 8 w1 = 1.965341, b = 2.997634 , error = 0.745732\n",
      " 9 w1 = 1.965341, b = 2.997634 , error = 0.745732\n"
     ]
    }
   ],
   "source": [
    "num_epoch = 10\n",
    "lr = 1.0\n",
    "\n",
    "w = np.random.uniform()\n",
    "b = np.random.uniform()\n",
    "print(w,b)\n",
    "\n",
    "for epoch in range(num_epoch): # 경사하강법 구현\n",
    "    y_pred = w*x + b\n",
    "    error = np.abs(y_pred - y).mean()\n",
    "    print(f\"{epoch:2} w1 = {w:.6f}, b = {b:.6f} , error = {error:.6f}\")\n",
    "\n",
    "    w = w - lr*((y_pred - y)* x).mean()\n",
    "    b = b - lr*((y_pred - y)).mean()"
   ]
  },
  {
   "cell_type": "markdown",
   "metadata": {
    "colab_type": "text",
    "id": "eu6hl1RrdPET"
   },
   "source": [
    "변수가 2개인 경우\n",
    "--"
   ]
  },
  {
   "cell_type": "code",
   "execution_count": 25,
   "metadata": {
    "colab": {
     "base_uri": "https://localhost:8080/",
     "height": 50
    },
    "colab_type": "code",
    "executionInfo": {
     "elapsed": 1537,
     "status": "ok",
     "timestamp": 1580271350179,
     "user": {
      "displayName": "김화종",
      "photoUrl": "https://lh3.googleusercontent.com/a-/AAuE7mCOtXjyLykQ_8l9Pq2rL3r5y110ynjRS1eb1EzpcQ=s64",
      "userId": "17353049580175403985"
     },
     "user_tz": -540
    },
    "id": "uMvk79oHdPEU",
    "outputId": "ac84cabd-f614-48c9-d84b-92577a19d0a3"
   },
   "outputs": [
    {
     "name": "stdout",
     "output_type": "stream",
     "text": [
      "[2.00292017 3.00729847]\n",
      "4.007862653796171\n"
     ]
    }
   ],
   "source": [
    "n_samples = 200\n",
    "x1 = np.random.randn(n_samples)\n",
    "x2 = np.random.randn(n_samples)\n",
    "\n",
    "y = 2 * x1 + 3 * x2 + 4  + 0.1*np.random.randn(n_samples)\n",
    "\n",
    "leg = LinearRegression()\n",
    "X = pd.DataFrame({'x1':x1, 'x2':x2})\n",
    "leg.fit(X, y)\n",
    "\n",
    "print(leg.coef_)\n",
    "print(leg.intercept_)"
   ]
  },
  {
   "cell_type": "code",
   "execution_count": 26,
   "metadata": {
    "colab": {
     "base_uri": "https://localhost:8080/",
     "height": 34
    },
    "colab_type": "code",
    "executionInfo": {
     "elapsed": 873,
     "status": "ok",
     "timestamp": 1580271356931,
     "user": {
      "displayName": "김화종",
      "photoUrl": "https://lh3.googleusercontent.com/a-/AAuE7mCOtXjyLykQ_8l9Pq2rL3r5y110ynjRS1eb1EzpcQ=s64",
      "userId": "17353049580175403985"
     },
     "user_tz": -540
    },
    "id": "s32v7aQudPEY",
    "outputId": "20548493-c26f-4e42-f8a4-94b614af6535"
   },
   "outputs": [
    {
     "data": {
      "text/plain": [
       "0.9992969810326712"
      ]
     },
     "execution_count": 26,
     "metadata": {},
     "output_type": "execute_result"
    }
   ],
   "source": [
    "leg.score(X,y) # R square"
   ]
  },
  {
   "cell_type": "markdown",
   "metadata": {
    "colab_type": "text",
    "id": "ALIlKV_jdPEc"
   },
   "source": [
    "경사하강법\n",
    "--"
   ]
  },
  {
   "cell_type": "code",
   "execution_count": 27,
   "metadata": {
    "colab": {
     "base_uri": "https://localhost:8080/",
     "height": 185
    },
    "colab_type": "code",
    "executionInfo": {
     "elapsed": 966,
     "status": "ok",
     "timestamp": 1580271362919,
     "user": {
      "displayName": "김화종",
      "photoUrl": "https://lh3.googleusercontent.com/a-/AAuE7mCOtXjyLykQ_8l9Pq2rL3r5y110ynjRS1eb1EzpcQ=s64",
      "userId": "17353049580175403985"
     },
     "user_tz": -540
    },
    "id": "o-aYcmQOdPEd",
    "outputId": "a9475e13-9a20-47c9-9b76-f61508f3aabc",
    "scrolled": false
   },
   "outputs": [
    {
     "name": "stdout",
     "output_type": "stream",
     "text": [
      " 0 w1 = 0.302660,  w2 = 0.162774, b = 0.746864 , error = 3.848526\n",
      " 1 w1 = 1.446825,  w2 = 2.288829, b = 2.986388 , error = 1.135650\n",
      " 2 w1 = 1.820663,  w2 = 2.828957, b = 3.685363 , error = 0.352163\n",
      " 3 w1 = 1.943090,  w2 = 2.964122, b = 3.905328 , error = 0.131716\n",
      " 4 w1 = 1.983255,  w2 = 2.997233, b = 3.975063 , error = 0.085294\n",
      " 5 w1 = 1.996450,  w2 = 3.005093, b = 3.997315 , error = 0.079505\n",
      " 6 w1 = 2.000790,  w2 = 3.006868, b = 4.004455 , error = 0.078576\n",
      " 7 w1 = 2.002218,  w2 = 3.007236, b = 4.006758 , error = 0.078387\n",
      " 8 w1 = 2.002689,  w2 = 3.007299, b = 4.007503 , error = 0.078340\n",
      " 9 w1 = 2.002844,  w2 = 3.007304, b = 4.007745 , error = 0.078327\n"
     ]
    }
   ],
   "source": [
    "num_epoch = 10\n",
    "lr = 0.1\n",
    "\n",
    "w1 = np.random.uniform()\n",
    "w2 = np.random.uniform()\n",
    "b = np.random.uniform()\n",
    "\n",
    "for epoch in range(num_epoch):\n",
    "    y_pred = w1*x1 + w2*x2 + b\n",
    "    error = np.abs(y_pred - y).mean()\n",
    "    print(f\"{epoch:2} w1 = {w1:.6f},  w2 = {w2:.6f}, b = {b:.6f} , error = {error:.6f}\")\n",
    "\n",
    "    w1 = w1 - lr*((y_pred - y)* x1).mean()\n",
    "    w2 = w2 - lr*((y_pred - y)* x2).mean()\n",
    "    b = b - lr*((y_pred - y)).mean()"
   ]
  },
  {
   "cell_type": "code",
   "execution_count": 0,
   "metadata": {
    "colab": {},
    "colab_type": "code",
    "id": "SzI_9y8bdPEl"
   },
   "outputs": [],
   "source": []
  },
  {
   "cell_type": "code",
   "execution_count": 0,
   "metadata": {
    "colab": {},
    "colab_type": "code",
    "id": "x-3xzT1sdPEo"
   },
   "outputs": [],
   "source": []
  }
 ],
 "metadata": {
  "colab": {
   "collapsed_sections": [],
   "name": "g_11_선형회귀개념.ipynb",
   "provenance": []
  },
  "kernelspec": {
   "display_name": "Python 3",
   "language": "python",
   "name": "python3"
  },
  "language_info": {
   "codemirror_mode": {
    "name": "ipython",
    "version": 3
   },
   "file_extension": ".py",
   "mimetype": "text/x-python",
   "name": "python",
   "nbconvert_exporter": "python",
   "pygments_lexer": "ipython3",
   "version": "3.7.4"
  }
 },
 "nbformat": 4,
 "nbformat_minor": 1
}
